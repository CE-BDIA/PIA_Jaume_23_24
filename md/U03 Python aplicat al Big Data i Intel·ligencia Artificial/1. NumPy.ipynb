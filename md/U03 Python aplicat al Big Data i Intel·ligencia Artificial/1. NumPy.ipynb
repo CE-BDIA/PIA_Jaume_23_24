{
 "cells": [
  {
   "cell_type": "code",
   "execution_count": 1,
   "metadata": {},
   "outputs": [
    {
     "name": "stdout",
     "output_type": "stream",
     "text": [
      "1.24.4\n",
      "[<class 'bool'>, <class 'str'>, <class 'float'>, <class 'int'>]\n"
     ]
    }
   ],
   "source": [
    "import numpy as np\n",
    "\n",
    "# Introducció a NumPy\n",
    "print(np.__version__)\n",
    "list_1 = [True, \"2\", 3.0, 4]\n",
    "print([type(item) for item in list_1])"
   ]
  },
  {
   "cell_type": "code",
   "execution_count": 2,
   "metadata": {},
   "outputs": [
    {
     "data": {
      "text/plain": [
       "array([[3, 7, 0],\n",
       "       [1, 4, 8],\n",
       "       [8, 5, 7]])"
      ]
     },
     "execution_count": 2,
     "metadata": {},
     "output_type": "execute_result"
    }
   ],
   "source": [
    "\n",
    "# array([1, 4, 2, 5, 3])\n",
    "np.array([1, 4, 2, 5, 3])\n",
    "\n",
    "# array([3.14, 4.  , 2.  , 3.  ])\n",
    "np.array([3.14, 4, 2, 3])\n",
    "\n",
    "# array([1., 2., 3., 4.], dtype=float32)\n",
    "np.array([1, 2, 3, 4], dtype='float32')\n",
    "\n",
    "# array([[2, 3, 4],\n",
    "#        [4, 5, 6],\n",
    "#        [6, 7, 8]])\n",
    "np.array([range(i, i + 3) for i in [2, 4, 6]])\n",
    "\n",
    "#array([0, 0, 0, 0, 0, 0, 0, 0, 0, 0])\n",
    "np.zeros(10, dtype=int)\n",
    "\n",
    "# array([[1., 1., 1., 1., 1.],\n",
    "#        [1., 1., 1., 1., 1.],\n",
    "#        [1., 1., 1., 1., 1.]])\n",
    "np.ones((3, 5), dtype=float)\n",
    "\n",
    "# array([[3., 3., 3., 3., 3.],\n",
    "#       [3., 3., 3., 3., 3.],\n",
    "#       [3., 3., 3., 3., 3.]])\n",
    "np.full((3, 5), 3.)\n",
    "\n",
    "# array([ 0,  2,  4,  6,  8, 10, 12, 14, 16, 18])\n",
    "np.arange(0, 20, 2)\n",
    "\n",
    "# array([0.  , 0.25, 0.5 , 0.75, 1.  ])\n",
    "np.linspace(0, 1, 5)\n",
    "\n",
    "# array([[0.13718193, 0.00357101, 0.01323657],\n",
    "#        [0.39090681, 0.21454034, 0.74277238],\n",
    "#        [0.38737056, 0.96167256, 0.50637694]])\n",
    "np.random.random((3, 3))\n",
    "\n",
    "# matriu de 3x3 amb valors enters aleatòris\n",
    "np.random.randint(0, 10, (3, 3))\n"
   ]
  },
  {
   "cell_type": "code",
   "execution_count": 3,
   "metadata": {},
   "outputs": [
    {
     "data": {
      "image/png": "[encoded data removed]",
      "text/plain": [
       "<Figure size 640x480 with 1 Axes>"
      ]
     },
     "metadata": {},
     "output_type": "display_data"
    }
   ],
   "source": [
    "\n",
    "\n",
    "mu, sigma = 0, 0.1\n",
    "s = np.random.normal(mu, sigma, 10000)\n",
    "\n",
    "import matplotlib.pyplot as plt\n",
    "count, bins, ignored = plt.hist(s, 100, density=True)\n",
    "plt.plot(bins, 1/(sigma * np.sqrt(2 * np.pi)) *\n",
    "            np.exp( - (bins - mu)**2 / (2 * sigma**2) ),\n",
    "      linewidth=2, color='r')\n",
    "plt.show()\n",
    "\n"
   ]
  },
  {
   "cell_type": "code",
   "execution_count": 4,
   "metadata": {},
   "outputs": [
    {
     "name": "stdout",
     "output_type": "stream",
     "text": [
      "número de dimensions:  3\n",
      "forma: (3, 4, 5)\n",
      "tamany:  60\n",
      "tipus de dades: int64\n",
      "tamany d'element: 8 bytes\n",
      "tamany total: 480 bytes\n",
      "[2 4 2 7 3 2]\n",
      "7\n",
      "3\n",
      "[[3 0 1 2]\n",
      " [1 4 1 6]\n",
      " [5 0 2 8]]\n",
      "5\n",
      "8\n",
      "[[12  0  1  2]\n",
      " [ 1  4  1  6]\n",
      " [ 5  0  2  8]]\n",
      "[[3 0 1 2]\n",
      " [1 4 1 6]\n",
      " [5 0 2 8]]\n"
     ]
    },
    {
     "data": {
      "text/plain": [
       "array([7, 6, 8, 8])"
      ]
     },
     "execution_count": 4,
     "metadata": {},
     "output_type": "execute_result"
    }
   ],
   "source": [
    "\n",
    "\n",
    "# Manipulació d'arrays\n",
    "array_1 = np.random.randint(10, size=(3, 4, 5))  # Array de tres dimensions\n",
    "print(\"número de dimensions: \", array_1.ndim)\n",
    "print(\"forma:\", array_1.shape)\n",
    "print(\"tamany: \", array_1.size)\n",
    "\n",
    "print(\"tipus de dades:\", array_1.dtype)\n",
    "print(\"tamany d'element:\", array_1.itemsize, \"bytes\")\n",
    "print(\"tamany total:\", array_1.nbytes, \"bytes\")\n",
    "\n",
    "# Accés\n",
    "array = np.random.randint(10, size=6)\n",
    "print(array)\n",
    "print(array[3])\n",
    "print(array[-2])\n",
    "\n",
    "array = np.random.randint(10, size=(3, 4))\n",
    "print(array)\n",
    "print(array[2, 0])\n",
    "print(array[2, -1])\n",
    "\n",
    "array[0, 0] = 12\n",
    "print(array)\n",
    "\n",
    "array[0, 0] = 3.14159\n",
    "print(array)\n",
    "\n",
    "x2 = np.array([[12,  5,  2,  4],\n",
    "    [ 7,  6,  8,  8],\n",
    "    [ 1,  6,  7,  7]])\n",
    "\n",
    "x2[:, 0]\n",
    "x2[1, :]"
   ]
  },
  {
   "cell_type": "code",
   "execution_count": 5,
   "metadata": {},
   "outputs": [
    {
     "data": {
      "text/plain": [
       "array([[42,  5],\n",
       "       [ 7,  6]])"
      ]
     },
     "execution_count": 5,
     "metadata": {},
     "output_type": "execute_result"
    }
   ],
   "source": [
    "\n",
    "x2_sub = x2[:2, :2]\n",
    "x2_sub[0, 0] = 99\n",
    "x2\n",
    "\n",
    "x2_sub_copy = x2[:2, :2].copy()\n",
    "x2_sub_copy[0, 0] = 42\n",
    "x2\n",
    "x2_sub_copy"
   ]
  },
  {
   "cell_type": "code",
   "execution_count": 6,
   "metadata": {},
   "outputs": [
    {
     "data": {
      "text/plain": [
       "array([[1, 2, 3]])"
      ]
     },
     "execution_count": 6,
     "metadata": {},
     "output_type": "execute_result"
    }
   ],
   "source": [
    "\n",
    "\n",
    "grid = np.arange(1, 10).reshape(3, 3)\n",
    "grid\n",
    "\n",
    "x = np.array([1, 2, 3])\n",
    "x\n",
    "x.reshape((1, 3))"
   ]
  },
  {
   "cell_type": "code",
   "execution_count": 7,
   "metadata": {},
   "outputs": [
    {
     "data": {
      "text/plain": [
       "array([[ 9,  8,  7, 99],\n",
       "       [ 6,  5,  4, 99]])"
      ]
     },
     "execution_count": 7,
     "metadata": {},
     "output_type": "execute_result"
    }
   ],
   "source": [
    "arrays = [np.random.rand(3, 4) for _ in range(10)]\n",
    "arrays\n",
    "np.stack(arrays, axis=2).shape\n",
    "\n",
    "x = np.array([1, 2, 3])\n",
    "y = np.array([3, 2, 1])\n",
    "np.concatenate([x, y])\n",
    "\n",
    "x = np.array([1, 2, 3])\n",
    "grid = np.array([[9, 8, 7],\n",
    "                [6, 5, 4]])\n",
    "# vertically stack the arrays\n",
    "np.vstack([x, grid])\n",
    "\n",
    "y = np.array([[99],[99]])\n",
    "np.hstack([grid, y])\n"
   ]
  },
  {
   "cell_type": "code",
   "execution_count": 8,
   "metadata": {},
   "outputs": [
    {
     "name": "stdout",
     "output_type": "stream",
     "text": [
      "x     = [0 1 2 3]\n",
      "x + 5 = [5 6 7 8]\n",
      "x - 5 = [-5 -4 -3 -2]\n",
      "x * 2 = [0 2 4 6]\n",
      "x / 2 = [0.  0.5 1.  1.5]\n",
      "x // 2 = [0 0 1 1]\n",
      "y    = [5 6 7 8]\n"
     ]
    }
   ],
   "source": [
    "\n",
    "x = np.arange(4)\n",
    "print(\"x     =\", x)\n",
    "print(\"x + 5 =\", x + 5)\n",
    "print(\"x - 5 =\", x - 5)\n",
    "print(\"x * 2 =\", x * 2)\n",
    "print(\"x / 2 =\", x / 2)\n",
    "print(\"x // 2 =\", x // 2)\n",
    "\n",
    "y = np.add(x, 5)\n",
    "print(\"y    =\", y)\n",
    "\n"
   ]
  },
  {
   "cell_type": "code",
   "execution_count": 9,
   "metadata": {},
   "outputs": [
    {
     "name": "stdout",
     "output_type": "stream",
     "text": [
      "[[0.83973288 0.37267673 0.06017237 0.72667   ]\n",
      " [0.84840699 0.72933353 0.47516229 0.91674125]\n",
      " [0.75896358 0.04844158 0.18417421 0.3120406 ]]\n",
      "[0.75896358 0.04844158 0.06017237 0.3120406 ]\n",
      "[0.06017237 0.47516229 0.04844158]\n"
     ]
    }
   ],
   "source": [
    "\n",
    "\n",
    "M = np.random.random((3, 4))\n",
    "print(M)\n",
    "print(M.min(axis=0))\n",
    "print(M.min(axis=1))"
   ]
  },
  {
   "cell_type": "code",
   "execution_count": 10,
   "metadata": {},
   "outputs": [
    {
     "name": "stdout",
     "output_type": "stream",
     "text": [
      "[5 6 7]\n",
      "[[1. 2. 3.]\n",
      " [1. 2. 3.]\n",
      " [1. 2. 3.]]\n",
      "[0 1 2]\n",
      "[[0]\n",
      " [1]\n",
      " [2]]\n"
     ]
    },
    {
     "data": {
      "text/plain": [
       "array([[0, 1, 2],\n",
       "       [1, 2, 3],\n",
       "       [2, 3, 4]])"
      ]
     },
     "execution_count": 10,
     "metadata": {},
     "output_type": "execute_result"
    }
   ],
   "source": [
    "a = np.array([0, 1, 2])\n",
    "print(a + 5)\n",
    "\n",
    "\n",
    "M = np.ones((3, 3))\n",
    "print(M + a)\n",
    "\n",
    "a = np.arange(3)\n",
    "b = np.arange(3)[:, np.newaxis]\n",
    "print(a) # [0 1 2]\n",
    "print(b)\n",
    "a + b\n"
   ]
  },
  {
   "cell_type": "code",
   "execution_count": 11,
   "metadata": {},
   "outputs": [
    {
     "ename": "ModuleNotFoundError",
     "evalue": "No module named 'pandas'",
     "output_type": "error",
     "traceback": [
      "\u001b[0;31m---------------------------------------------------------------------------\u001b[0m",
      "\u001b[0;31mModuleNotFoundError\u001b[0m                       Traceback (most recent call last)",
      "\u001b[1;32m/home/ferran/Documents/IES El Just 23-34/PIA/PIA_Jaume_23_24/md/U03 Python aplicat al Big Data i Intel·ligencia Artificial/1. NumPy.ipynb Cell 11\u001b[0m line \u001b[0;36m1\n\u001b[0;32m----> <a href='vscode-notebook-cell:/home/ferran/Documents/IES%20El%20Just%2023-34/PIA/PIA_Jaume_23_24/md/U03%20Python%20aplicat%20al%20Big%20Data%20i%20Intel%C2%B7ligencia%20Artificial/1.%20NumPy.ipynb#X13sZmlsZQ%3D%3D?line=0'>1</a>\u001b[0m \u001b[39mimport\u001b[39;00m \u001b[39mpandas\u001b[39;00m \u001b[39mas\u001b[39;00m \u001b[39mpd\u001b[39;00m\n\u001b[1;32m      <a href='vscode-notebook-cell:/home/ferran/Documents/IES%20El%20Just%2023-34/PIA/PIA_Jaume_23_24/md/U03%20Python%20aplicat%20al%20Big%20Data%20i%20Intel%C2%B7ligencia%20Artificial/1.%20NumPy.ipynb#X13sZmlsZQ%3D%3D?line=2'>3</a>\u001b[0m \u001b[39m# use pandas to extract rainfall inches as a NumPy array\u001b[39;00m\n\u001b[1;32m      <a href='vscode-notebook-cell:/home/ferran/Documents/IES%20El%20Just%2023-34/PIA/PIA_Jaume_23_24/md/U03%20Python%20aplicat%20al%20Big%20Data%20i%20Intel%C2%B7ligencia%20Artificial/1.%20NumPy.ipynb#X13sZmlsZQ%3D%3D?line=3'>4</a>\u001b[0m rainfall \u001b[39m=\u001b[39m pd\u001b[39m.\u001b[39mread_csv(\u001b[39m'\u001b[39m\u001b[39mdata/Seattle2014.csv\u001b[39m\u001b[39m'\u001b[39m)[\u001b[39m'\u001b[39m\u001b[39mPRCP\u001b[39m\u001b[39m'\u001b[39m]\u001b[39m.\u001b[39mvalues\n",
      "\u001b[0;31mModuleNotFoundError\u001b[0m: No module named 'pandas'"
     ]
    }
   ],
   "source": [
    "import pandas as pd\n",
    "\n",
    "# use pandas to extract rainfall inches as a NumPy array\n",
    "rainfall = pd.read_csv('data/Seattle2014.csv')['PRCP'].values\n",
    "\n",
    "%matplotlib inline\n",
    "import matplotlib.pyplot as plt\n",
    "import seaborn; seaborn.set()  # set plot styles\n",
    "plt.hist(rainfall, 40);"
   ]
  },
  {
   "cell_type": "code",
   "execution_count": null,
   "metadata": {},
   "outputs": [
    {
     "data": {
      "text/plain": [
       "array([ True,  True, False, False, False])"
      ]
     },
     "execution_count": 13,
     "metadata": {},
     "output_type": "execute_result"
    }
   ],
   "source": [
    "x = np.array([1, 2, 3, 4, 5])\n",
    "x < 3 "
   ]
  },
  {
   "cell_type": "code",
   "execution_count": null,
   "metadata": {},
   "outputs": [
    {
     "data": {
      "text/plain": [
       "array([False,  True, False, False, False])"
      ]
     },
     "execution_count": 14,
     "metadata": {},
     "output_type": "execute_result"
    }
   ],
   "source": [
    "( 2  *  x )  ==  ( x  **  2 )\n"
   ]
  },
  {
   "cell_type": "code",
   "execution_count": null,
   "metadata": {},
   "outputs": [
    {
     "data": {
      "text/plain": [
       "8"
      ]
     },
     "execution_count": 15,
     "metadata": {},
     "output_type": "execute_result"
    }
   ],
   "source": [
    "x = np.array([[5, 0, 3, 3],\n",
    "                [7, 9, 3, 5],\n",
    "                [2, 4, 7, 6]])\n",
    "np.sum(x < 6)"
   ]
  },
  {
   "cell_type": "code",
   "execution_count": null,
   "metadata": {},
   "outputs": [
    {
     "data": {
      "text/plain": [
       "array([4, 2, 2])"
      ]
     },
     "execution_count": 16,
     "metadata": {},
     "output_type": "execute_result"
    }
   ],
   "source": [
    "np.sum(x < 6, axis=1)\n"
   ]
  },
  {
   "cell_type": "code",
   "execution_count": null,
   "metadata": {},
   "outputs": [
    {
     "data": {
      "text/plain": [
       "False"
      ]
     },
     "execution_count": 17,
     "metadata": {},
     "output_type": "execute_result"
    }
   ],
   "source": [
    "np.any(x < 0) # Comprovem si hi ha negatius"
   ]
  },
  {
   "cell_type": "code",
   "execution_count": null,
   "metadata": {},
   "outputs": [
    {
     "data": {
      "text/plain": [
       "array([ True, False,  True])"
      ]
     },
     "execution_count": 18,
     "metadata": {},
     "output_type": "execute_result"
    }
   ],
   "source": [
    "np.all(x < 8, axis=1) # Comprovem si tots els elements de les files són majors a 8\n"
   ]
  },
  {
   "cell_type": "code",
   "execution_count": null,
   "metadata": {},
   "outputs": [
    {
     "data": {
      "text/plain": [
       "array([0, 3, 3, 3, 2, 4])"
      ]
     },
     "execution_count": 19,
     "metadata": {},
     "output_type": "execute_result"
    }
   ],
   "source": [
    "x [ x  <  5 ]"
   ]
  },
  {
   "cell_type": "code",
   "execution_count": null,
   "metadata": {},
   "outputs": [],
   "source": [
    "x = np.array([51, 92, 14, 71, 60, 20, 82, 86, 74, 74])"
   ]
  },
  {
   "cell_type": "code",
   "execution_count": null,
   "metadata": {},
   "outputs": [
    {
     "data": {
      "text/plain": [
       "[71, 86, 14]"
      ]
     },
     "execution_count": 21,
     "metadata": {},
     "output_type": "execute_result"
    }
   ],
   "source": [
    "[x[3], x[7], x[2]]"
   ]
  },
  {
   "cell_type": "code",
   "execution_count": null,
   "metadata": {},
   "outputs": [
    {
     "data": {
      "text/plain": [
       "array([71, 86, 60])"
      ]
     },
     "execution_count": 22,
     "metadata": {},
     "output_type": "execute_result"
    }
   ],
   "source": [
    "ind = [3, 7, 4]\n",
    "x[ind]"
   ]
  },
  {
   "cell_type": "code",
   "execution_count": null,
   "metadata": {},
   "outputs": [
    {
     "data": {
      "text/plain": [
       "[71, 86, 14]"
      ]
     },
     "execution_count": 23,
     "metadata": {},
     "output_type": "execute_result"
    }
   ],
   "source": [
    "x = np.array([51, 92, 14, 71, 60, 20, 82, 86, 74, 74])\n",
    "[x[3], x[7], x[2]] # llista de Python"
   ]
  },
  {
   "cell_type": "code",
   "execution_count": null,
   "metadata": {},
   "outputs": [
    {
     "data": {
      "text/plain": [
       "array([71, 86, 14])"
      ]
     },
     "execution_count": 24,
     "metadata": {},
     "output_type": "execute_result"
    }
   ],
   "source": [
    "ind = [3, 7, 2]\n",
    "x[ind] # array de NumPy"
   ]
  },
  {
   "cell_type": "code",
   "execution_count": null,
   "metadata": {},
   "outputs": [
    {
     "name": "stdout",
     "output_type": "stream",
     "text": [
      "[[ 0  2]\n",
      " [ 4  6]\n",
      " [ 8 10]]\n"
     ]
    }
   ],
   "source": [
    "X = np.arange(12).reshape((3, 4))\n",
    "mask = np.array([1, 0, 1, 0], dtype=bool)\n",
    "row = np.array([0, 1, 2])\n",
    "col = np.array([2, 1, 3])\n",
    "X[row[:, np.newaxis], mask]\n",
    "print(X[row[:, np.newaxis], mask])"
   ]
  },
  {
   "cell_type": "code",
   "execution_count": null,
   "metadata": {},
   "outputs": [
    {
     "data": {
      "image/png": "[encoded data removed]",
      "text/plain": [
       "<Figure size 640x480 with 1 Axes>"
      ]
     },
     "metadata": {},
     "output_type": "display_data"
    }
   ],
   "source": [
    "\n",
    "rand = np.random.RandomState(42)\n",
    "mean = [0, 0]\n",
    "cov = [[1, 2],\n",
    "       [2, 5]]\n",
    "X = rand.multivariate_normal(mean, cov, 100)\n",
    "X.shape\n",
    "\n",
    "%matplotlib inline\n",
    "import matplotlib.pyplot as plt\n",
    "import seaborn; seaborn.set()  # for plot styling\n",
    "\n",
    "plt.scatter(X[:, 0], X[:, 1]);"
   ]
  },
  {
   "cell_type": "code",
   "execution_count": null,
   "metadata": {},
   "outputs": [
    {
     "name": "stdout",
     "output_type": "stream",
     "text": [
      "[18 59 11 55 43 45 98 70 30 44 48 90 87 10 60 49 46 85 38 93]\n",
      "[[ 0.55696849 -0.77649078]\n",
      " [-1.34358292 -2.42980966]\n",
      " [ 0.4828396  -0.37645841]\n",
      " [ 1.78285987  4.27550608]\n",
      " [-0.97152888 -1.98964057]\n",
      " [-0.46037235 -0.06298339]\n",
      " [ 0.75774974  1.99576056]\n",
      " [-0.71036745 -0.30013762]\n",
      " [ 0.51374789  1.03934128]\n",
      " [ 0.29301567  1.26295906]\n",
      " [-0.37348099 -0.61909868]\n",
      " [-0.25002126 -1.53138537]\n",
      " [-0.57217829 -0.48602389]\n",
      " [-1.26768205 -3.3048337 ]\n",
      " [-0.38281071 -1.9085007 ]\n",
      " [ 0.08504839 -0.0485903 ]\n",
      " [ 0.77400336  1.51395046]\n",
      " [ 1.13400126  1.85469452]\n",
      " [ 0.03400415 -0.24154993]\n",
      " [-0.40934414 -1.06707361]]\n"
     ]
    }
   ],
   "source": [
    "indices = np.random.choice(X.shape[0], 20, replace=False)\n",
    "print(indices)\n",
    "selection = X[indices]\n",
    "print(selection)"
   ]
  },
  {
   "cell_type": "code",
   "execution_count": null,
   "metadata": {},
   "outputs": [
    {
     "data": {
      "image/png": "[encoded data removed]",
      "text/plain": [
       "<Figure size 640x480 with 1 Axes>"
      ]
     },
     "metadata": {},
     "output_type": "display_data"
    }
   ],
   "source": [
    "plt.scatter(X[:, 0], X[:, 1], alpha=0.5)\n",
    "plt.scatter(selection[:, 0], selection[:, 1],\n",
    "            facecolor='red', s=20);"
   ]
  },
  {
   "cell_type": "code",
   "execution_count": null,
   "metadata": {},
   "outputs": [],
   "source": []
  },
  {
   "cell_type": "code",
   "execution_count": null,
   "metadata": {},
   "outputs": [
    {
     "name": "stdout",
     "output_type": "stream",
     "text": [
      "[6. 0. 0. 0. 0. 0. 0. 0. 0. 0.]\n"
     ]
    }
   ],
   "source": [
    "x = np.zeros(10)\n",
    "x[[0, 0]] = [4, 6]\n",
    "print(x)"
   ]
  },
  {
   "cell_type": "code",
   "execution_count": null,
   "metadata": {},
   "outputs": [
    {
     "data": {
      "image/png": "[encoded data removed]",
      "text/plain": [
       "<Figure size 640x480 with 1 Axes>"
      ]
     },
     "metadata": {},
     "output_type": "display_data"
    }
   ],
   "source": [
    "np.random.seed(42) # la semilla ens proporciona valors pseudoaleatòris\n",
    "x = np.random.randn(100)\n",
    "\n",
    "bins = np.linspace(-5, 5, 21)\n",
    "counts = np.zeros_like(bins)\n",
    "\n",
    "i = np.searchsorted(bins, x) # torna l'índex on situar cada dada x\n",
    "\n",
    "np.add.at(counts, i, 1) # incrementa counts en 1 cada vegada que apareix líndex\n",
    "                        # de forma que tenim la freqüència\n",
    "\n",
    "plt.plot(bins, counts, drawstyle='steps'); # creem un histograma"
   ]
  },
  {
   "cell_type": "code",
   "execution_count": null,
   "metadata": {},
   "outputs": [
    {
     "data": {
      "image/png": "[encoded data removed]",
      "text/plain": [
       "<Figure size 640x480 with 1 Axes>"
      ]
     },
     "metadata": {},
     "output_type": "display_data"
    }
   ],
   "source": [
    "plt.hist(x, bins, histtype='step');"
   ]
  },
  {
   "cell_type": "code",
   "execution_count": null,
   "metadata": {},
   "outputs": [],
   "source": [
    "import numpy as np\n",
    "\n",
    "def selection_sort(x):\n",
    "    for i in range(len(x)):\n",
    "        swap = i + np.argmin(x[i:])\n",
    "        (x[i], x[swap]) = (x[swap], x[i])\n",
    "    return x"
   ]
  },
  {
   "cell_type": "code",
   "execution_count": null,
   "metadata": {},
   "outputs": [
    {
     "data": {
      "text/plain": [
       "array([1, 2, 3, 4, 5])"
      ]
     },
     "execution_count": 33,
     "metadata": {},
     "output_type": "execute_result"
    }
   ],
   "source": [
    "x = np.array([2, 1, 4, 3, 5])\n",
    "selection_sort(x)"
   ]
  },
  {
   "cell_type": "code",
   "execution_count": null,
   "metadata": {},
   "outputs": [
    {
     "name": "stdout",
     "output_type": "stream",
     "text": [
      "[1 2 3 4 5]\n",
      "[2 1 4 3 5] -> [1 0 3 2 4]\n"
     ]
    }
   ],
   "source": [
    "x = np.array([2, 1, 4, 3, 5])\n",
    "x_sorted = np.sort(x)\n",
    "index_sorted = np.argsort(x)\n",
    "print(x_sorted)\n",
    "print(f\"{x} -> {index_sorted}\")"
   ]
  },
  {
   "cell_type": "code",
   "execution_count": null,
   "metadata": {},
   "outputs": [
    {
     "name": "stdout",
     "output_type": "stream",
     "text": [
      "[[6 3 7 4 6 9]\n",
      " [2 6 7 4 3 7]\n",
      " [7 2 5 4 1 7]\n",
      " [5 1 4 0 9 5]]\n",
      "[[2 1 4 0 1 5]\n",
      " [5 2 5 4 3 7]\n",
      " [6 3 7 4 6 7]\n",
      " [7 6 7 4 9 9]]\n",
      "[[3 4 6 6 7 9]\n",
      " [2 3 4 6 7 7]\n",
      " [1 2 4 5 7 7]\n",
      " [0 1 4 5 5 9]]\n"
     ]
    }
   ],
   "source": [
    "rand = np.random.RandomState(42)\n",
    "X = rand.randint(0, 10, (4, 6))\n",
    "print(X)\n",
    "print(np.sort(X, axis=0))\n",
    "print(np.sort(X, axis=1))"
   ]
  },
  {
   "cell_type": "code",
   "execution_count": null,
   "metadata": {},
   "outputs": [
    {
     "name": "stdout",
     "output_type": "stream",
     "text": [
      "[[6 3 7 4 6 9]\n",
      " [2 6 7 4 3 7]\n",
      " [7 2 5 4 1 7]\n",
      " [5 1 4 0 9 5]]\n"
     ]
    },
    {
     "data": {
      "text/plain": [
       "array([[3, 4, 6, 7, 6, 9],\n",
       "       [2, 3, 4, 7, 6, 7],\n",
       "       [1, 2, 4, 5, 7, 7],\n",
       "       [0, 1, 4, 5, 9, 5]])"
      ]
     },
     "execution_count": 37,
     "metadata": {},
     "output_type": "execute_result"
    }
   ],
   "source": [
    "rand = np.random.RandomState(42)\n",
    "X = rand.randint(0, 10, (4, 6))\n",
    "print(X)\n",
    "np.partition(X, 2, axis=1)"
   ]
  },
  {
   "cell_type": "code",
   "execution_count": null,
   "metadata": {},
   "outputs": [
    {
     "name": "stdout",
     "output_type": "stream",
     "text": [
      "[[6 3]\n",
      " [7 4]\n",
      " [6 9]\n",
      " [2 6]\n",
      " [7 4]\n",
      " [3 7]\n",
      " [7 2]\n",
      " [5 4]\n",
      " [1 7]\n",
      " [5 1]]\n",
      "[[0 1 4 6 7 9 3 5 2 8]\n",
      " [1 4 0 6 7 9 5 2 3 8]\n",
      " [2 5 3 1 4 7 8 0 6 9]\n",
      " [3 5 8 7 0 2 1 4 9 6]\n",
      " [1 4 0 6 7 9 5 2 3 8]\n",
      " [5 3 8 2 7 0 1 4 9 6]\n",
      " [6 0 1 4 9 7 3 5 2 8]\n",
      " [7 0 1 4 6 9 3 5 8 2]\n",
      " [8 3 5 7 2 0 1 4 9 6]\n",
      " [9 0 6 7 1 4 3 5 8 2]]\n",
      "[[6 0 7 4 1 5 3 2 8 9]\n",
      " [1 4 0 7 6 9 2 5 8 3]\n",
      " [5 3 2 7 1 4 8 0 6 9]\n",
      " [3 5 8 7 0 2 4 6 1 9]\n",
      " [1 4 0 7 6 9 2 5 8 3]\n",
      " [3 5 8 7 4 2 0 6 1 9]\n",
      " [1 0 6 4 3 5 2 7 8 9]\n",
      " [1 0 7 4 3 5 6 2 8 9]\n",
      " [3 5 8 7 0 2 4 6 1 9]\n",
      " [6 9 0 7 1 4 3 5 8 2]]\n"
     ]
    },
    {
     "data": {
      "image/png": "[encoded data removed]",
      "text/plain": [
       "<Figure size 640x480 with 1 Axes>"
      ]
     },
     "metadata": {},
     "output_type": "display_data"
    }
   ],
   "source": [
    "rand = np.random.RandomState(42)\n",
    "X = rand.randint(0, 10, size=(10, 2))\n",
    "print(X)\n",
    "dist_sq = np.sum((X[:, np.newaxis, :] - X[np.newaxis, :, :]) ** 2, axis=-1)\n",
    "dist_sq.diagonal()\n",
    "nearest = np.argsort(dist_sq, axis=1)\n",
    "print(nearest)\n",
    "K = 2\n",
    "nearest_partition = np.argpartition(np.sqrt(dist_sq), K + 1, axis=1)\n",
    "print(nearest_partition)\n",
    "plt.scatter(X[:, 0], X[:, 1], s=100)\n",
    "\n",
    "# draw lines from each point to its two nearest neighbors\n",
    "K = 2\n",
    "\n",
    "for i in range(X.shape[0]):\n",
    "    for j in nearest_partition[i, :K+1]:\n",
    "        # plot a line from X[i] to X[j]\n",
    "        # use some zip magic to make it happen:\n",
    "        plt.plot(*zip(X[j], X[i]), color='black')"
   ]
  }
 ],
 "metadata": {
  "kernelspec": {
   "display_name": "Python 3 (ipykernel)",
   "language": "python",
   "name": "python3"
  },
  "language_info": {
   "codemirror_mode": {
    "name": "ipython",
    "version": 3
   },
   "file_extension": ".py",
   "mimetype": "text/x-python",
   "name": "python",
   "nbconvert_exporter": "python",
   "pygments_lexer": "ipython3",
   "version": "3.11.6"
  }
 },
 "nbformat": 4,
 "nbformat_minor": 2
}
