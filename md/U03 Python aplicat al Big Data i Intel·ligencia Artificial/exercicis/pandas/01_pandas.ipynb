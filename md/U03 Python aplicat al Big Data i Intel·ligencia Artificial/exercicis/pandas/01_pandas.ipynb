{
 "cells": [
  {
   "cell_type": "markdown",
   "metadata": {},
   "source": [
    "## Introducció\n",
    "\n",
    "El primer pas en la majoria de projectes d'IA és la recopilació de dades. En este exercici, crearem Series i DataFrame"
   ]
  }
 ],
 "metadata": {
  "language_info": {
   "name": "python"
  }
 },
 "nbformat": 4,
 "nbformat_minor": 2
}
