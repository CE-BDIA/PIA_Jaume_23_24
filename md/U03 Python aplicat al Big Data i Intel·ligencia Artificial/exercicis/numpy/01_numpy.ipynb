{
 "cells": [
  {
   "cell_type": "markdown",
   "metadata": {},
   "source": [
    "## Exercici 1: creació\n",
    "Crea una array de numpy amb els nombres primers següents: 2, 3, 5, 7, 11, 13, 17, 19, 23, 29:\n",
    "\n",
    "Mostra l'últim element. I ho has de fer sense saber-ne la longitud.\n",
    "Mostra el 3r element\n",
    "Mostra l'últim i 3r element.\n",
    "Mostra del 2n al 5è element.\n",
    "Mostra l'últim  i el penúltim element. I ho has de fer sense saber la longitud."
   ]
  },
  {
   "cell_type": "code",
   "execution_count": null,
   "metadata": {},
   "outputs": [],
   "source": [
    "# Solució a l'exercici 1\n"
   ]
  },
  {
   "cell_type": "markdown",
   "metadata": {},
   "source": [
    "## Exercici 2: arange \n",
    "\n",
    "  * Crea una array de numpy amb els nombres primers següents: 2, 3, 5, 7, 11, 13, 17, 19, 23, 29 però que l'array siga de tipus \"float\" de 32 bits.\n",
    "  * Usant la funció `arange` de numpy crea un array amb els números del 100 al 200 però sense incloure el 200. Mostra el resultat.\n",
    "  * Usant la funció range estàndard de Python crea un array amb els números del 100 al 200 però sense incloure el 200. Mostra el resultat. Quina diferència hi ha amb arange? Justifica la resposta."
   ]
  },
  {
   "cell_type": "code",
   "execution_count": null,
   "metadata": {},
   "outputs": [],
   "source": [
    "# Solució a l'exercici 2"
   ]
  },
  {
   "cell_type": "markdown",
   "metadata": {},
   "source": [
    "## Exercici 3: Matrius \n",
    "\n",
    "Crea la matriu següent:\n",
    "\n",
    "$$\n",
    "\\begin{pmatrix}\n",
    "1 & 4 & 6 & 5\\\\\n",
    "4 & 1 & 7 & 3\\\\\n",
    "2 & 9 & 1 & 2\\\\\n",
    "6 & 3 & 1 & 1\\\\\n",
    "\\end{pmatrix}\n",
    "$$\n",
    "\n",
    "  * Mostra l'element de la fila 2n i la columna 3r. És el valor del 7.\n",
    "  * Mostra la 3a Fila\n",
    "  * Mostra la 2a Columna\n",
    "  * Mostra la 2n i 3r Columna\n",
    "  * Mostra la 2n i 3r Fila\n",
    "  * Mostra la darrera columna. Heu de funcionar independentment del nombre de columnes.\n",
    "  * Mostra la 2n i 3r Columna i la 1r i 3r fila\n",
    "  * Mostra de la 2n a la 3r Columna i de la 1r a la 3r fila\n",
    "  * Mostra totes les columnes excepte la primera i la darrera. Heu de funcionar independentment del nombre de columnes.\n",
    "  * Mostra totes les files excepte la primera i la darrera. Heu de funcionar independentment del nombre de files.\n",
    "  * Mostra totes les columnes excepte la primera i la darrera i totes les files excepte la primera i la darrera. Heu de funcionar independentment del nombre de files i columnes.\n",
    "  * Imprimeix la matriu i fes que les capçaleres de cada columna siguin A, B , C i D"
   ]
  },
  {
   "cell_type": "code",
   "execution_count": null,
   "metadata": {},
   "outputs": [],
   "source": [
    "# Solució a l'exercici 3"
   ]
  },
  {
   "cell_type": "markdown",
   "metadata": {},
   "source": [
    "## Exercici 4: Filtrat\n",
    "\n",
    "El següent array conté les temperatures mitjanes que ha fet a València cada mes[10.2, 10.7, 13.3, 15.8, 19.3, 23.6, 26, 25.9, 22.8, 19.1, 13.9, 10.8 ]\n",
    "\n",
    "- Mostra les temperatures el valor de les quals sigui més gran que 20\n",
    "- Mostra les temperatures el valor de les quals sigui menor que 11\n",
    "- Mostra les temperatures el valor de les quals sigui més gran que 20 o menor que 11"
   ]
  },
  {
   "cell_type": "code",
   "execution_count": null,
   "metadata": {},
   "outputs": [],
   "source": [
    "# Solució a l'exercici 4"
   ]
  },
  {
   "cell_type": "markdown",
   "metadata": {},
   "source": [
    "## Exercici 5: Matrius i Iris \n",
    "\n",
    "Carrega les dades de l'exemple de les flors amb el codi següent:\n",
    "\n",
    "```python\n",
    "from sklearn.datasets import load_iris\n",
    "data=load_iris().data\n",
    "result=load_iris().target\n",
    "```\n",
    "\n",
    "  * Crea un array anomenat `sepal_length` amb les 99 primeres files i la 1a columna de la matriu `data`\n",
    "  * Crea un array anomenat `petal_length` amb les 99 primeres files i la 3a columna de la matriu `data`\n",
    "  * Crea un array anomenat `x` ajuntant les 2 columnes `sepal_length` i `petal_length`\n",
    "  * Crea un array anomenat `y` amb les 99 primeres files del vector `result`"
   ]
  },
  {
   "cell_type": "code",
   "execution_count": null,
   "metadata": {},
   "outputs": [],
   "source": [
    "# Solució a l'exercici 5"
   ]
  },
  {
   "cell_type": "markdown",
   "metadata": {},
   "source": [
    "## Exercici 6: Matrius i Iris\n",
    "\n",
    "Carrega les dades de l'exemple de les flors amb el codi següent:\n",
    "\n",
    "```python\n",
    "from sklearn.datasets import load_iris\n",
    "data=load_iris().data\n",
    "resultat=load_iris().target\n",
    "```\n",
    "\n",
    "* Crea un array anomenat `x` amb les 99 primeres files, la 1r columna i la 3r columna de la matriu `data`\n",
    "* Crea un array anomenat `y` amb les 99 primeres files del vector `result`"
   ]
  },
  {
   "cell_type": "code",
   "execution_count": null,
   "metadata": {},
   "outputs": [],
   "source": [
    "# Solució a l'exercici 6"
   ]
  },
  {
   "cell_type": "markdown",
   "metadata": {},
   "source": [
    "## Exercici 7: Matrius 2D \n",
    "\n",
    "Selecciona les cel·les en roig oscur de la següent matriu:\n",
    "\n",
    "![Matriu](../img/matriz.png)"
   ]
  },
  {
   "cell_type": "code",
   "execution_count": null,
   "metadata": {},
   "outputs": [],
   "source": [
    "# Solució a l'exercici 7"
   ]
  },
  {
   "cell_type": "markdown",
   "metadata": {},
   "source": [
    "## Exercici 8: Matrices 3D \n",
    "\n",
    "Selecciona les cel·les en roig fosc de la matriu següent:\n",
    "\n",
    "![Cubo](../img/cubo.png)\n",
    "\n",
    "Ara seleccioneu les cel·les en roig fosc però també les verdes i blaves que hi ha per darrere de les roig fosc."
   ]
  },
  {
   "cell_type": "code",
   "execution_count": null,
   "metadata": {},
   "outputs": [],
   "source": [
    "# Solució a l'exercici 8"
   ]
  },
  {
   "cell_type": "markdown",
   "metadata": {},
   "source": [
    "## Exercici 9: Matricus \n",
    "\n",
    "Crea la matriu següent:\n",
    "\n",
    "$$\n",
    "\\begin{pmatrix}\n",
    "1 & 4 & 6 & 5\\\\\n",
    "4 & 1 & 7 & 3\\\\\n",
    "2 & 9 & 1 & 2\\\\\n",
    "6 & 3 & 1 & 1\\\\\n",
    "\\end{pmatrix}\n",
    "$$\n",
    "\n",
    "  * A tots els elements de la matriu suma-li un 10. Usant les funcions de numpy\n",
    "  * A tots els elements de la matriu suma-li un 10 i divideix-los entre 2. Usant les funcions de numpy\n",
    "  * A tots els elements de la matriu suma-li un 10. Usant operadors\n",
    "  * A tots els elements de la matriu suma-li un 10 i divideix-los entre 2. Usant operadors\n"
   ]
  },
  {
   "cell_type": "code",
   "execution_count": null,
   "metadata": {},
   "outputs": [],
   "source": [
    "# Solució a l'exercici 9"
   ]
  },
  {
   "cell_type": "markdown",
   "metadata": {},
   "source": [
    "## Exercici 10: Matrius\n",
    "\n",
    "Crea la matriu següent:\n",
    "\n",
    "$$\n",
    "\\begin{pmatrix}\n",
    "1 & 2 & 3\\\\\n",
    "4 & 5 & 6\\\\\n",
    "7 & 8 & 9\\\\\n",
    "\\end{pmatrix}\n",
    "$$\n",
    "\n",
    "* Multiplica cada element de la matriu per si mateix\n",
    "* Multiplica la matriu per si mateixa"
   ]
  },
  {
   "cell_type": "code",
   "execution_count": null,
   "metadata": {},
   "outputs": [],
   "source": [
    "# Solució a l'exercici 10"
   ]
  },
  {
   "cell_type": "markdown",
   "metadata": {},
   "source": [
    "## Exercici 10:Dimensions \n",
    "\n",
    "Mostra les dimensions dels següents arrays:\n",
    "\n",
    "```python\n",
    "a=[2, 3, 5, 7, 11, 13, 17, 19, 23, 29, 31, 37]\n",
    "\n",
    "b=[[2, 3], [5, 7], [11, 13], [17, 19], [23, 29], [31, 37]]\n",
    "\n",
    "c=[[[2, 3], [5, 7]], [[11, 13], [17, 19]], [[23, 29], [31, 37]]]\n",
    "```"
   ]
  },
  {
   "cell_type": "code",
   "execution_count": null,
   "metadata": {},
   "outputs": [],
   "source": [
    "# Solució a l'exercici 10"
   ]
  },
  {
   "cell_type": "markdown",
   "metadata": {},
   "source": [
    "## Exercici 10: Forma \n",
    "\n",
    "Crea una funció anomenada `mostrar_tamany` que reba un array de numpy i imprimisca la mida de cadascuna de les dimensions. \n",
    "\n",
    "Per exemple, amb l'array [ [ [2, 3], [5, 7]], [ [11, 13], [17, 19]], [ [23, 29], [31, 37] ] ]haureu de mostrar\n",
    "\n",
    "```sh\n",
    "El nº de elementos de la dimension 0 es 3\n",
    "El nº de elementos de la dimension 1 es 2\n",
    "El nº de elementos de la dimension 2 es 2\n",
    "```\n",
    "\n",
    "```python\n",
    "a=[2, 3, 5, 7, 11, 13, 17, 19, 23, 29, 31, 37]\n",
    "\n",
    "b=[[2, 3], [5, 7], [11, 13], [17, 19], [23, 29], [31, 37]]\n",
    "\n",
    "c=[[[2, 3], [5, 7]], [[11, 13], [17, 19]], [[23, 29], [31, 37]]]\n",
    "```"
   ]
  },
  {
   "cell_type": "code",
   "execution_count": null,
   "metadata": {},
   "outputs": [],
   "source": [
    "# Solució a l'exercici 10"
   ]
  },
  {
   "cell_type": "markdown",
   "metadata": {},
   "source": [
    "## Exercici 11: Tipus de dades \n",
    "\n",
    "Mostra amb numpy el tipus de dades dels següents arrays:\n",
    "\n",
    "```python\n",
    "a=[2, 3, 5]\n",
    "\n",
    "b=[2.4, 3.2, 5.6]\n",
    "\n",
    "c=[2, 3, 5.6]\n",
    "```\n",
    "\n"
   ]
  },
  {
   "cell_type": "code",
   "execution_count": null,
   "metadata": {},
   "outputs": [],
   "source": [
    "# Solució a l'exercici 11"
   ]
  },
  {
   "cell_type": "markdown",
   "metadata": {},
   "source": [
    "## Exercici 12: Unir columnes \n",
    "\n",
    "En exercicis anteriors vas obtenir per al problema de les flors, una matriu x i un vector y.\n",
    "\n",
    "Uneix les dades en una nova matriu de manera que cada fila de la nova matriu contingui les dades de cada fila de la x i la dada corresponent de la y."
   ]
  },
  {
   "cell_type": "code",
   "execution_count": null,
   "metadata": {},
   "outputs": [],
   "source": [
    "# Solució a l'exercici 12"
   ]
  },
  {
   "cell_type": "markdown",
   "metadata": {},
   "source": [
    "## Exercici 13: linspace  y gráficas \n",
    "\n",
    "Donat el següent codi python:\n",
    "\n",
    "```python\n",
    "import matplotlib.pyplot as plt\n",
    "import numpy as np\n",
    "  \n",
    "figure=plt.figure(figsize=(8,8))\n",
    "axes = figure.add_subplot()\n",
    " \n",
    "x=[-3,-2,-1,0,1,2,3]\n",
    "y =  3*(1 - x)**2 * np.exp(-x**2 )  - 10*(x/5 - x**3 )*np.exp(-x**2 ) - 1./3*np.exp(-(x + 1)**2 ) \n",
    " \n",
    "axes.plot(x,y)\n",
    "```\n",
    "\n",
    "* Modifica el codi que genera la variable xperquè sigui un array de numpy i de tipus float. Mostra la imatge\n",
    "* Modifica el codi que genera la variable xperquè siguin 10 valors entre el [-3,3]. Mostra la imatge\n",
    "* Modifica el codi que genera la variable xperquè siguin 20 valors entre el [-3,3]. Mostra la imatge\n",
    "* Modifica el codi que genera la variable xperquè siguin 40 valors entre el [-3,3]. Mostra la imatge\n",
    "* Modifica el codi que genera la variable xperquè siguin 60 valors entre el [-3,3]. Mostra la imatge\n",
    "* Modifica el codi que genera la variable xperquè siguin 100 valors entre el [-3,3]. Mostra la imatge"
   ]
  },
  {
   "cell_type": "code",
   "execution_count": null,
   "metadata": {},
   "outputs": [],
   "source": [
    "# Solució a l'exercici 13"
   ]
  },
  {
   "cell_type": "markdown",
   "metadata": {},
   "source": [
    "## Exercici 14: ordenació\n",
    "\n",
    "Utilitzant la funció *np.argsort* i *fancy indexing* fes una funció que reba una llista de números (una llista de python, no un artray de numnpy) i la torne ordenada."
   ]
  },
  {
   "cell_type": "code",
   "execution_count": null,
   "metadata": {},
   "outputs": [],
   "source": [
    "# Solució a l'exercici 14"
   ]
  }
 ],
 "metadata": {
  "kernelspec": {
   "display_name": "azure-env",
   "language": "python",
   "name": "python3"
  },
  "language_info": {
   "codemirror_mode": {
    "name": "ipython",
    "version": 3
   },
   "file_extension": ".py",
   "mimetype": "text/x-python",
   "name": "python",
   "nbconvert_exporter": "python",
   "pygments_lexer": "ipython3",
   "version": "3.10.13"
  }
 },
 "nbformat": 4,
 "nbformat_minor": 2
}
