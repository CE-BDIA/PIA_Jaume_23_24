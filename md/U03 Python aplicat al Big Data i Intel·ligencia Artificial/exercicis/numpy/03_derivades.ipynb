{
 "cells": [
  {
   "cell_type": "markdown",
   "metadata": {},
   "source": [
    "## Pràctica 2: Derivades \n",
    "\n",
    "Crea les següents funcions:\n",
    "\n",
    "\n",
    "* Crea una funció anomenada resta_seguent que accepti com a paràmetre un array anomenat a. Aquesta funció farà el següent:\n",
    "  * Crea un array anomenat primers que contingui tots els elements de l'array menys l'últim\n",
    "  * Crea un array anomenat ultims que contingui tots els elements de l'array menys el primer\n",
    "  * Retorna el resultat de restar ultims menys primers\n",
    "* Crea una funció anomenada derivadaque accepti com a paràmetre dos arrays anomenats xi y.\n",
    "  * Crea un matriu anomenada resta_x que sigui el resultat de cridar a la funció resta_seguent amb l'argument x\n",
    "  * Crea un matriu anomenada resta_y que sigui el resultat de cridar a la funció resta_seguent amb l'argument y\n",
    "  * Retorna dos valors que seran:\n",
    "    * L'array x menys l'últim element\n",
    "    * El resultat de dividir resta_y entre resta_x\n",
    "\n",
    "Amb tot això fes el següent programa:\n",
    "\n",
    "* Crea un array anomenat x, amb 100 números entre el -2 i el 2\n",
    "* Crea un array anomenat y_absolut que sigui el valor absolut de l'array x\n",
    "* Crea un array anomenat y_cuadrad que sigui el valor al quadrat de l'array x\n",
    "* Crida a la funció derivada amb els arguments x i y_absoluto i guarda el resultat als arrays derivada_x_absolut,derivada_y_absolut\n",
    "* Crida a la funció derivada amb els arguments x i y_cuadrado i guarda el resultat als arrays derivada_x_cuadrat,derivada_y_cuadrat\n",
    "  \n",
    "Mostra el resultat de tots els arrays amb el codi següent:\n",
    "\n",
    "```python\n",
    "import matplotlib.pyplot as plt\n",
    "  \n",
    "figure=plt.figure(figsize=(16,8))\n",
    "axes = figure.add_subplot(1,2,1)\n",
    "axes.plot(x,y_absolut,label=\"Absoluto\")\n",
    "axes.plot(x,y_cuadrad,label=\"Cuadrado\")\n",
    "axes.legend(loc=\"upper left\")\n",
    "\n",
    "axes = figure.add_subplot(1,2,2)\n",
    "axes.plot(derivada_x_absolut,derivada_y_absolut,label=\"Derivada Absoluto\")\n",
    "axes.plot(derivada_x_cuadrat,derivada_y_cuadrat,label=\"Derivada Cuadrado\")\n",
    "axes.legend(loc=\"upper left\")\n",
    "```\n",
    "\n",
    "La imatge resultant ha de ser semblant a aquesta:\n",
    "\n",
    "![mae_vs_mse](../img/mae_vs_mse_01.png)\n",
    "\n"
   ]
  },
  {
   "cell_type": "code",
   "execution_count": null,
   "metadata": {},
   "outputs": [],
   "source": []
  }
 ],
 "metadata": {
  "kernelspec": {
   "display_name": "azure-env",
   "language": "python",
   "name": "python3"
  },
  "language_info": {
   "codemirror_mode": {
    "name": "ipython",
    "version": 3
   },
   "file_extension": ".py",
   "mimetype": "text/x-python",
   "name": "python",
   "nbconvert_exporter": "python",
   "pygments_lexer": "ipython3",
   "version": "3.10.13"
  }
 },
 "nbformat": 4,
 "nbformat_minor": 2
}
