{
 "cells": [
  {
   "cell_type": "markdown",
   "metadata": {},
   "source": [
    "## Pràctica 1: Transformar tensores \n",
    "\n",
    "El fitxer mario.csv que hi ha dins de [mario.zip](../data/mario.zip)  conté un array de numpy. Aquest array correspon a la següent imatge que té la mida 41x31:\n",
    "\n",
    "![mario](../img/ejemplo_imagen_mario_8bits.png)\n",
    "\n",
    "* Carrega l'array des de disc i anomena'l mario.\n",
    "* Mostra la mida de les dimensions usant la funció que vas crear en un exercici anterior.\n",
    "* Mostra la imatge amb el codi següent. No us deixarà. Per què?\n",
    "\n",
    "```python\n",
    "import matplotlib.pyplot as plt\n",
    "figure=plt.figure()\n",
    "axes = figure.add_subplot()\n",
    "axes.imshow(mario)\n",
    "```\n",
    "\n",
    "* Transforma l'array a un altre la mida del qual sigui 41x31 i que l'última dimensió no s'indiqui. Quina és la mida de la darrera dimensió?\n",
    "* Quin és el tipus? Quant ocupa en memòria?\n",
    "* Mostra una altra vegada la imatge. No us deixarà. Per què?\n",
    "* Transforma la matriu en 8 bits sense signe. Quant ocupa ara en memòria?\n",
    "* Mostra una altra vegada la imatge. Ara sí que us deixarà. Per què?\n",
    "* Mostra ara les dades de la matriu del color vermell.\n",
    "* Mostra ara les dades de la matriu del color Verd.\n",
    "* Mostra ara les dades de la matriu del color Blau.\n",
    "* Mostra els colors RGB del píxel (2,3)\n",
    "* Obtingues les dades de la matriu del color Roig, aplica'n la transposada i mostra la imatge.\n",
    "* Dividiu tots els valors del tensor entre 2 i mostra la imatge."
   ]
  },
  {
   "cell_type": "code",
   "execution_count": null,
   "metadata": {},
   "outputs": [],
   "source": []
  },
  {
   "cell_type": "markdown",
   "metadata": {},
   "source": [
    "Seguint amb el tensor de l'exercici anterior de mario. Aplica a tots els elements la funció següent:\n",
    "\n",
    "* Si el valor està entre [0,63] es transformarà en 0\n",
    "* Si el valor està entre [64,127] es transformarà en 90\n",
    "* Si el valor està entre [128,191] es transformarà en 150\n",
    "* Si el valor està entre [192,255] es transformarà el 200\n",
    "\n",
    "> Per fer-ho hauràs de transformar el tensor una altra vegada en un matriu unidimensional, aplicar la funció i tornar a transformar-lo en un tensor de 3 dimensions"
   ]
  },
  {
   "cell_type": "code",
   "execution_count": null,
   "metadata": {},
   "outputs": [],
   "source": []
  }
 ],
 "metadata": {
  "kernelspec": {
   "display_name": "azure-env",
   "language": "python",
   "name": "python3"
  },
  "language_info": {
   "codemirror_mode": {
    "name": "ipython",
    "version": 3
   },
   "file_extension": ".py",
   "mimetype": "text/x-python",
   "name": "python",
   "nbconvert_exporter": "python",
   "pygments_lexer": "ipython3",
   "version": "3.10.13"
  }
 },
 "nbformat": 4,
 "nbformat_minor": 2
}
