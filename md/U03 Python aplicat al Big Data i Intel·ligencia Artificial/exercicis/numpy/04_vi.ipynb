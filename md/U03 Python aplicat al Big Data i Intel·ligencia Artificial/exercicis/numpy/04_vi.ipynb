{
 "cells": [
  {
   "cell_type": "markdown",
   "metadata": {},
   "source": [
    "## Pràctica 3: El vi\n",
    "\n",
    "Càrrega amb numpy el fitxer [wine.csv](../data/wine.csv) que conté una matriu de números separats per coma.\n",
    "\n",
    "La matriu conté una sèrie de columnes amb característiques del vi i la darrera columna indica el tipus del vi.\n",
    "\n",
    "* Crea una funció en python trucada imprimir_datosi tindrà com a paràmetre una matriu de numpy de manera que:\n",
    "  * Imprimiu totes les característiques que tenim de cada tipus de vi.\n",
    "  * Imprimiu quantes mostra de vi tenim\n",
    "  * Imprimiu quants tipus diferents de vi tenim i quins són\n",
    "  * Imprimiu els valors màxims i mínims de cada característica\n",
    "  * Retorna una nova matriu anomenada xnomés amb les característiques i un nou array anomenat ynomés amb els tipus de vi\n",
    "* Truca a la funció imprimir_datosamb les dades de la matriu carregada des de wine.csv .\n"
   ]
  },
  {
   "cell_type": "code",
   "execution_count": null,
   "metadata": {},
   "outputs": [],
   "source": []
  }
 ],
 "metadata": {
  "kernelspec": {
   "display_name": "azure-env",
   "language": "python",
   "name": "python3"
  },
  "language_info": {
   "codemirror_mode": {
    "name": "ipython",
    "version": 3
   },
   "file_extension": ".py",
   "mimetype": "text/x-python",
   "name": "python",
   "nbconvert_exporter": "python",
   "pygments_lexer": "ipython3",
   "version": "3.10.13"
  }
 },
 "nbformat": 4,
 "nbformat_minor": 2
}
