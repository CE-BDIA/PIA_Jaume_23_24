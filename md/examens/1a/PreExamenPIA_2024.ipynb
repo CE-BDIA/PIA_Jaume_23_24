{
  "cells": [
    {
      "cell_type": "markdown",
      "metadata": {
        "id": "nlzIY0SJxeRU"
      },
      "source": [
        "# Pregunta 1\n",
        "Carrega el dataset i mostra les primeres 5 files."
      ]
    },
    {
      "cell_type": "code",
      "execution_count": null,
      "metadata": {
        "id": "VcVmJsXPz4En"
      },
      "outputs": [],
      "source": []
    },
    {
      "cell_type": "markdown",
      "metadata": {
        "id": "tmfD4udiyw6D"
      },
      "source": [
        "# Pregunta 2\n",
        "\n",
        "Falten dades al dataset. A quina columna?"
      ]
    },
    {
      "cell_type": "markdown",
      "metadata": {},
      "source": []
    },
    {
      "cell_type": "markdown",
      "metadata": {},
      "source": [
        "# Pregunta 3\n",
        "Substitueix els valors faltant per la mitjana de les dades de la mateixa marca. Comprova que després de fer-ho no falten valors."
      ]
    },
    {
      "cell_type": "code",
      "execution_count": null,
      "metadata": {},
      "outputs": [],
      "source": []
    },
    {
      "cell_type": "markdown",
      "metadata": {},
      "source": [
        "# Pregunta 4\n",
        "Que faries si en alguna dada li falta la marca?"
      ]
    },
    {
      "cell_type": "markdown",
      "metadata": {},
      "source": []
    },
    {
      "cell_type": "markdown",
      "metadata": {
        "id": "MN6YiUYXyrHF"
      },
      "source": [
        "# Pregunta 5\n",
        "Mostra amb un gràfic quants elements hi han de cadascuna de les marques al dataset."
      ]
    },
    {
      "cell_type": "code",
      "execution_count": null,
      "metadata": {},
      "outputs": [],
      "source": []
    },
    {
      "cell_type": "markdown",
      "metadata": {},
      "source": [
        "# Pregunta 6\n",
        "Està compensat el dataset?"
      ]
    },
    {
      "cell_type": "markdown",
      "metadata": {},
      "source": []
    },
    {
      "cell_type": "markdown",
      "metadata": {
        "id": "3wvLfzsq08aR"
      },
      "source": [
        "# Relacions entre variables\n",
        "Anem a estudiar si hi ha una relació entre algunes característiques i el preu. Mostra un gràfic de dispersió entre les variables potència del processador, RAM, disc dur i pes amb el preu.\n",
        "\n",
        "Volem dibuixa-ho en 4 gràfics que es visualitzen alhora, en una graella de dos files i dos columnes, però com a bons programadors ho farem per parts\n",
        "\n",
        "# Pregunta 7\n",
        "Crea una funció que es diga `dibuixa_relacio_amb_target`:\n",
        "  - Ha de rebre com a arguments un dataframe, i el nom de dos variables, i representarà un gràfic de dispersió entre eixes dos columnes del dataframe. L'últim argument de la funció deu ser el ax (gràfice) on el dibuixarà, sent `None` per defecte\n",
        "\n",
        "  > Prova la crida amb `dibuixa_relacio_amb_target(price_data,'Weight','Price')`"
      ]
    },
    {
      "cell_type": "code",
      "execution_count": null,
      "metadata": {},
      "outputs": [],
      "source": []
    },
    {
      "cell_type": "markdown",
      "metadata": {},
      "source": [
        "# Pregunta 8\n",
        "Donades les següents variables, fes un bloc de codi que genere la grafica amb els 4 diagrames de dispersió, dins d'una mateixa figura.\n",
        "```\n",
        "dades=['Processor_Speed','RAM_Size','Storage_Capacity','Weight']\n",
        "objectiu='Price'\n",
        "```\n",
        "\n",
        "> **TIP**: Crea subfigures, i pássa-li a la funció anterior en cada ax una figura"
      ]
    },
    {
      "cell_type": "markdown",
      "metadata": {},
      "source": [
        "# Pregunta 9\n",
        "Ara volem relacionar tres variables en un gràfic 2D. Dibuixa la relació preu-velocitat del processador diferenciant cada representació segons la capacitat del disc en un gràfic adequat."
      ]
    },
    {
      "cell_type": "code",
      "execution_count": null,
      "metadata": {},
      "outputs": [],
      "source": []
    },
    {
      "cell_type": "markdown",
      "metadata": {},
      "source": [
        "# Fem prediccions\n",
        "\n",
        "Volem definir un model d'IA per a predir el preu d'un portàtil donades les seues característiques."
      ]
    },
    {
      "cell_type": "markdown",
      "metadata": {},
      "source": [
        "# Pregunta 10\n",
        "Comencem per arreglar les nostres dades per poder passar-li'l a un algorisme de ML."
      ]
    },
    {
      "cell_type": "code",
      "execution_count": null,
      "metadata": {},
      "outputs": [],
      "source": []
    },
    {
      "cell_type": "markdown",
      "metadata": {},
      "source": [
        "# Pregunta 11\n",
        "Divideix les dades en dades d'entrada i dades objectiu."
      ]
    },
    {
      "cell_type": "code",
      "execution_count": null,
      "metadata": {},
      "outputs": [],
      "source": []
    },
    {
      "cell_type": "markdown",
      "metadata": {},
      "source": [
        "# Pregunta 12\n",
        "Divideix les dades en dos blocs, entrenament (80%) i validació(20%) amb una llavor d'1."
      ]
    },
    {
      "cell_type": "code",
      "execution_count": null,
      "metadata": {},
      "outputs": [],
      "source": []
    },
    {
      "cell_type": "markdown",
      "metadata": {},
      "source": [
        "# Pregunta 13\n",
        "Entrena un GradientBoostingRegressor sense hiperparàmetres i imprimeix els errors de validació i d'entrenamet. Quin és major? Perquè?"
      ]
    },
    {
      "cell_type": "code",
      "execution_count": null,
      "metadata": {},
      "outputs": [],
      "source": []
    },
    {
      "cell_type": "markdown",
      "metadata": {},
      "source": [
        "# Pregunta 14\n",
        "\n",
        "Un dels hiperparàmetres que podem passar-li a l'algorisme és `loss` (funció de pèrdua que volem utilitzar), un altre és `n_estimators` (arbres utilitzats) i un altre el `learning_rate` (pes de cada arbre en el model final).\n",
        "\n",
        "El nombre d'estimadors òptims creiem que estarà entre 30 i 120. \n",
        "\n",
        "Representa gràficament les corbes d'aprenentatge en variar el model entre estos valors (evolució de l'error absolut tant en les dades d'entrenament com de validació). Fes-ho definint una funció que reba les x i les y tant d'entrenament com de validació i faça un gràfic adequat.\n",
        "\n",
        "La funció de pèrdua per al model serà `absolute_error`. "
      ]
    },
    {
      "cell_type": "code",
      "execution_count": null,
      "metadata": {},
      "outputs": [],
      "source": [
        "# Funció"
      ]
    },
    {
      "cell_type": "code",
      "execution_count": null,
      "metadata": {},
      "outputs": [],
      "source": [
        "# Gràfic"
      ]
    },
    {
      "cell_type": "markdown",
      "metadata": {},
      "source": [
        "# Pregunta 15\n",
        "Comenta el gràfic obtingut. S'observa underfitting o overfitting? Podem estimar el valor òptim amb el gràfic?"
      ]
    },
    {
      "cell_type": "markdown",
      "metadata": {},
      "source": []
    },
    {
      "cell_type": "markdown",
      "metadata": {},
      "source": [
        "# Pregunta 16\n",
        "Extrau de les dades que hem obtingut el nombre òptim d'estimadors i l'error associat."
      ]
    },
    {
      "cell_type": "code",
      "execution_count": null,
      "metadata": {},
      "outputs": [],
      "source": []
    },
    {
      "cell_type": "markdown",
      "metadata": {},
      "source": [
        "# Pregunta 17\n",
        "Anem a repetir el procés, esta vegada amb el `learning_rate`.\n",
        "\n",
        "L'òptim es situarà entre els valors 2 i 0.001. Dibuixa les corbes d'aprenentatge per a eixe rang amb 40 divisions."
      ]
    },
    {
      "cell_type": "code",
      "execution_count": null,
      "metadata": {},
      "outputs": [],
      "source": []
    },
    {
      "cell_type": "markdown",
      "metadata": {},
      "source": [
        "# Pregunta 18\n",
        "Comenta el gràfic obtingut. S'observa underfitting o overfitting? Podem estimar el valor òptim amb el gràfic?"
      ]
    },
    {
      "cell_type": "markdown",
      "metadata": {},
      "source": []
    },
    {
      "cell_type": "markdown",
      "metadata": {},
      "source": [
        "# Pregunta 19\n",
        "Extrau de les dades que hem obtingut el nombre òptim de taxa d'aprenentatge i l'error associat."
      ]
    },
    {
      "cell_type": "code",
      "execution_count": null,
      "metadata": {},
      "outputs": [],
      "source": []
    },
    {
      "cell_type": "markdown",
      "metadata": {},
      "source": [
        "# Pregunta 20\n",
        "Defineix un model amb els paràmetyres òptims que has calculat i la funció de pèrdua error absolut. Calcula el MAE. Has obtés el millor MAE? Perquè?"
      ]
    },
    {
      "cell_type": "code",
      "execution_count": null,
      "metadata": {},
      "outputs": [],
      "source": []
    },
    {
      "cell_type": "markdown",
      "metadata": {},
      "source": []
    },
    {
      "cell_type": "markdown",
      "metadata": {},
      "source": [
        "# Pregunta 21\n",
        "Per trobar els millors paràmetres pots utilitzar el `GridSearchCV`. Buscant com a 'learning_rate'entre 0.3 i 0.001 i entre 85 i 100 estimadors.\n",
        "\n",
        "Per llevar aleatorietat definirem la llavor a 1.\n",
        "\n",
        "Tingues en compte que esta tècnica pot tardar, defineix 10 particions per al learning rate."
      ]
    },
    {
      "cell_type": "code",
      "execution_count": null,
      "metadata": {},
      "outputs": [],
      "source": []
    },
    {
      "cell_type": "markdown",
      "metadata": {},
      "source": [
        "# Pregunta 22\n",
        "Defineix el model òptim amb els millors paràmetres i calcula l'error en les prediccions. Has obtés el millor resultat? Perquè?"
      ]
    },
    {
      "cell_type": "code",
      "execution_count": null,
      "metadata": {},
      "outputs": [],
      "source": []
    },
    {
      "cell_type": "markdown",
      "metadata": {},
      "source": []
    },
    {
      "cell_type": "markdown",
      "metadata": {},
      "source": [
        "# Pregunta 23\n",
        "L'error que hem obtés en l'estimació és gran o menut? Justifica la resposta."
      ]
    },
    {
      "cell_type": "code",
      "execution_count": null,
      "metadata": {},
      "outputs": [],
      "source": []
    },
    {
      "cell_type": "markdown",
      "metadata": {},
      "source": []
    }
  ],
  "metadata": {
    "colab": {
      "provenance": []
    },
    "kernelspec": {
      "display_name": "Python 3",
      "name": "python3"
    },
    "language_info": {
      "codemirror_mode": {
        "name": "ipython",
        "version": 3
      },
      "file_extension": ".py",
      "mimetype": "text/x-python",
      "name": "python",
      "nbconvert_exporter": "python",
      "pygments_lexer": "ipython3",
      "version": "3.11.5"
    }
  },
  "nbformat": 4,
  "nbformat_minor": 0
}
